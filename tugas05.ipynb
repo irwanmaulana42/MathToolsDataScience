{
  "nbformat": 4,
  "nbformat_minor": 0,
  "metadata": {
    "colab": {
      "name": "tugas05.ipynb",
      "provenance": [],
      "collapsed_sections": [],
      "authorship_tag": "ABX9TyN/VFo2SrvjhmuK8D0vxRZ9",
      "include_colab_link": true
    },
    "kernelspec": {
      "name": "python3",
      "display_name": "Python 3"
    },
    "language_info": {
      "name": "python"
    }
  },
  "cells": [
    {
      "cell_type": "markdown",
      "metadata": {
        "id": "view-in-github",
        "colab_type": "text"
      },
      "source": [
        "<a href=\"https://colab.research.google.com/github/irwanmaulana42/MathToolsDataScience/blob/main/tugas05.ipynb\" target=\"_parent\"><img src=\"https://colab.research.google.com/assets/colab-badge.svg\" alt=\"Open In Colab\"/></a>"
      ]
    },
    {
      "cell_type": "code",
      "source": [
        "!pip install ray"
      ],
      "metadata": {
        "colab": {
          "base_uri": "https://localhost:8080/"
        },
        "id": "pXe90b9JVFMM",
        "outputId": "d03fd164-d244-48a5-aa28-3b82b53b1b08"
      },
      "execution_count": 2,
      "outputs": [
        {
          "output_type": "stream",
          "name": "stdout",
          "text": [
            "Looking in indexes: https://pypi.org/simple, https://us-python.pkg.dev/colab-wheels/public/simple/\n",
            "Collecting ray\n",
            "  Downloading ray-1.13.0-cp37-cp37m-manylinux2014_x86_64.whl (54.5 MB)\n",
            "\u001b[K     |████████████████████████████████| 54.5 MB 169 kB/s \n",
            "\u001b[?25hCollecting aiosignal\n",
            "  Downloading aiosignal-1.2.0-py3-none-any.whl (8.2 kB)\n",
            "Requirement already satisfied: numpy>=1.16 in /usr/local/lib/python3.7/dist-packages (from ray) (1.21.6)\n",
            "Collecting frozenlist\n",
            "  Downloading frozenlist-1.3.0-cp37-cp37m-manylinux_2_5_x86_64.manylinux1_x86_64.manylinux_2_17_x86_64.manylinux2014_x86_64.whl (144 kB)\n",
            "\u001b[K     |████████████████████████████████| 144 kB 58.5 MB/s \n",
            "\u001b[?25hRequirement already satisfied: requests in /usr/local/lib/python3.7/dist-packages (from ray) (2.23.0)\n",
            "Collecting virtualenv\n",
            "  Downloading virtualenv-20.15.1-py2.py3-none-any.whl (10.1 MB)\n",
            "\u001b[K     |████████████████████████████████| 10.1 MB 40.1 MB/s \n",
            "\u001b[?25hRequirement already satisfied: msgpack<2.0.0,>=1.0.0 in /usr/local/lib/python3.7/dist-packages (from ray) (1.0.4)\n",
            "Requirement already satisfied: attrs in /usr/local/lib/python3.7/dist-packages (from ray) (21.4.0)\n",
            "Requirement already satisfied: jsonschema in /usr/local/lib/python3.7/dist-packages (from ray) (4.3.3)\n",
            "Requirement already satisfied: click<=8.0.4,>=7.0 in /usr/local/lib/python3.7/dist-packages (from ray) (7.1.2)\n",
            "Requirement already satisfied: filelock in /usr/local/lib/python3.7/dist-packages (from ray) (3.7.1)\n",
            "Requirement already satisfied: pyyaml in /usr/local/lib/python3.7/dist-packages (from ray) (3.13)\n",
            "Requirement already satisfied: protobuf<4.0.0,>=3.15.3 in /usr/local/lib/python3.7/dist-packages (from ray) (3.17.3)\n",
            "Collecting grpcio<=1.43.0,>=1.28.1\n",
            "  Downloading grpcio-1.43.0-cp37-cp37m-manylinux_2_17_x86_64.manylinux2014_x86_64.whl (4.1 MB)\n",
            "\u001b[K     |████████████████████████████████| 4.1 MB 41.3 MB/s \n",
            "\u001b[?25hRequirement already satisfied: six>=1.5.2 in /usr/local/lib/python3.7/dist-packages (from grpcio<=1.43.0,>=1.28.1->ray) (1.15.0)\n",
            "Requirement already satisfied: importlib-resources>=1.4.0 in /usr/local/lib/python3.7/dist-packages (from jsonschema->ray) (5.8.0)\n",
            "Requirement already satisfied: pyrsistent!=0.17.0,!=0.17.1,!=0.17.2,>=0.14.0 in /usr/local/lib/python3.7/dist-packages (from jsonschema->ray) (0.18.1)\n",
            "Requirement already satisfied: typing-extensions in /usr/local/lib/python3.7/dist-packages (from jsonschema->ray) (4.1.1)\n",
            "Requirement already satisfied: importlib-metadata in /usr/local/lib/python3.7/dist-packages (from jsonschema->ray) (4.12.0)\n",
            "Requirement already satisfied: zipp>=3.1.0 in /usr/local/lib/python3.7/dist-packages (from importlib-resources>=1.4.0->jsonschema->ray) (3.8.1)\n",
            "Requirement already satisfied: certifi>=2017.4.17 in /usr/local/lib/python3.7/dist-packages (from requests->ray) (2022.6.15)\n",
            "Requirement already satisfied: chardet<4,>=3.0.2 in /usr/local/lib/python3.7/dist-packages (from requests->ray) (3.0.4)\n",
            "Requirement already satisfied: idna<3,>=2.5 in /usr/local/lib/python3.7/dist-packages (from requests->ray) (2.10)\n",
            "Requirement already satisfied: urllib3!=1.25.0,!=1.25.1,<1.26,>=1.21.1 in /usr/local/lib/python3.7/dist-packages (from requests->ray) (1.24.3)\n",
            "Collecting platformdirs<3,>=2\n",
            "  Downloading platformdirs-2.5.2-py3-none-any.whl (14 kB)\n",
            "Collecting distlib<1,>=0.3.1\n",
            "  Downloading distlib-0.3.5-py2.py3-none-any.whl (466 kB)\n",
            "\u001b[K     |████████████████████████████████| 466 kB 45.8 MB/s \n",
            "\u001b[?25hInstalling collected packages: platformdirs, frozenlist, distlib, virtualenv, grpcio, aiosignal, ray\n",
            "  Attempting uninstall: grpcio\n",
            "    Found existing installation: grpcio 1.47.0\n",
            "    Uninstalling grpcio-1.47.0:\n",
            "      Successfully uninstalled grpcio-1.47.0\n",
            "Successfully installed aiosignal-1.2.0 distlib-0.3.5 frozenlist-1.3.0 grpcio-1.43.0 platformdirs-2.5.2 ray-1.13.0 virtualenv-20.15.1\n"
          ]
        }
      ]
    },
    {
      "cell_type": "code",
      "execution_count": 3,
      "metadata": {
        "id": "uGBUeKRQT-pG"
      },
      "outputs": [],
      "source": [
        "import ray\n",
        "import pandas as pd\n",
        "\n",
        "# https://raw.githubusercontent.com/irwanmaulana42/MathToolsDataScience/main/iris/Iris.csv\n",
        "ds = ray.data.read_csv('/content/Iris.csv')"
      ]
    },
    {
      "cell_type": "code",
      "source": [
        "# Menampilkan data ke table\n",
        "\n",
        "ds.show()"
      ],
      "metadata": {
        "colab": {
          "base_uri": "https://localhost:8080/"
        },
        "id": "SSP3vKPYXRoM",
        "outputId": "59ee7e5d-1b60-47aa-9eaa-e4a4dbdb5944"
      },
      "execution_count": 4,
      "outputs": [
        {
          "output_type": "stream",
          "name": "stdout",
          "text": [
            "{'Id': 1, 'SepalLengthCm': 5.1, 'SepalWidthCm': 3.5, 'PetalLengthCm': 1.4, 'PetalWidthCm': 0.2, 'Species': 'Iris-setosa'}\n",
            "{'Id': 2, 'SepalLengthCm': 4.9, 'SepalWidthCm': 3.0, 'PetalLengthCm': 1.4, 'PetalWidthCm': 0.2, 'Species': 'Iris-setosa'}\n",
            "{'Id': 3, 'SepalLengthCm': 4.7, 'SepalWidthCm': 3.2, 'PetalLengthCm': 1.3, 'PetalWidthCm': 0.2, 'Species': 'Iris-setosa'}\n",
            "{'Id': 4, 'SepalLengthCm': 4.6, 'SepalWidthCm': 3.1, 'PetalLengthCm': 1.5, 'PetalWidthCm': 0.2, 'Species': 'Iris-setosa'}\n",
            "{'Id': 5, 'SepalLengthCm': 5.0, 'SepalWidthCm': 3.6, 'PetalLengthCm': 1.4, 'PetalWidthCm': 0.2, 'Species': 'Iris-setosa'}\n",
            "{'Id': 6, 'SepalLengthCm': 5.4, 'SepalWidthCm': 3.9, 'PetalLengthCm': 1.7, 'PetalWidthCm': 0.4, 'Species': 'Iris-setosa'}\n",
            "{'Id': 7, 'SepalLengthCm': 4.6, 'SepalWidthCm': 3.4, 'PetalLengthCm': 1.4, 'PetalWidthCm': 0.3, 'Species': 'Iris-setosa'}\n",
            "{'Id': 8, 'SepalLengthCm': 5.0, 'SepalWidthCm': 3.4, 'PetalLengthCm': 1.5, 'PetalWidthCm': 0.2, 'Species': 'Iris-setosa'}\n",
            "{'Id': 9, 'SepalLengthCm': 4.4, 'SepalWidthCm': 2.9, 'PetalLengthCm': 1.4, 'PetalWidthCm': 0.2, 'Species': 'Iris-setosa'}\n",
            "{'Id': 10, 'SepalLengthCm': 4.9, 'SepalWidthCm': 3.1, 'PetalLengthCm': 1.5, 'PetalWidthCm': 0.1, 'Species': 'Iris-setosa'}\n",
            "{'Id': 11, 'SepalLengthCm': 5.4, 'SepalWidthCm': 3.7, 'PetalLengthCm': 1.5, 'PetalWidthCm': 0.2, 'Species': 'Iris-setosa'}\n",
            "{'Id': 12, 'SepalLengthCm': 4.8, 'SepalWidthCm': 3.4, 'PetalLengthCm': 1.6, 'PetalWidthCm': 0.2, 'Species': 'Iris-setosa'}\n",
            "{'Id': 13, 'SepalLengthCm': 4.8, 'SepalWidthCm': 3.0, 'PetalLengthCm': 1.4, 'PetalWidthCm': 0.1, 'Species': 'Iris-setosa'}\n",
            "{'Id': 14, 'SepalLengthCm': 4.3, 'SepalWidthCm': 3.0, 'PetalLengthCm': 1.1, 'PetalWidthCm': 0.1, 'Species': 'Iris-setosa'}\n",
            "{'Id': 15, 'SepalLengthCm': 5.8, 'SepalWidthCm': 4.0, 'PetalLengthCm': 1.2, 'PetalWidthCm': 0.2, 'Species': 'Iris-setosa'}\n",
            "{'Id': 16, 'SepalLengthCm': 5.7, 'SepalWidthCm': 4.4, 'PetalLengthCm': 1.5, 'PetalWidthCm': 0.4, 'Species': 'Iris-setosa'}\n",
            "{'Id': 17, 'SepalLengthCm': 5.4, 'SepalWidthCm': 3.9, 'PetalLengthCm': 1.3, 'PetalWidthCm': 0.4, 'Species': 'Iris-setosa'}\n",
            "{'Id': 18, 'SepalLengthCm': 5.1, 'SepalWidthCm': 3.5, 'PetalLengthCm': 1.4, 'PetalWidthCm': 0.3, 'Species': 'Iris-setosa'}\n",
            "{'Id': 19, 'SepalLengthCm': 5.7, 'SepalWidthCm': 3.8, 'PetalLengthCm': 1.7, 'PetalWidthCm': 0.3, 'Species': 'Iris-setosa'}\n",
            "{'Id': 20, 'SepalLengthCm': 5.1, 'SepalWidthCm': 3.8, 'PetalLengthCm': 1.5, 'PetalWidthCm': 0.3, 'Species': 'Iris-setosa'}\n"
          ]
        }
      ]
    },
    {
      "cell_type": "code",
      "source": [
        "# Filter Data\n",
        "\n",
        "# Find rows with sepal.length < 5.5 and petal.length > 3.5.\n",
        "def transform_batch(df: pd.DataFrame) -> pd.DataFrame:\n",
        "    return df[(df[\"SepalLengthCm\"] < 5.5) & (df[\"PetalLengthCm\"] > 3.5)]\n",
        "\n",
        "# Map processing the dataset.\n",
        "ds.map_batches(transform_batch).show()\n",
        "# -> {'sepal.length': 5.2, 'sepal.width': 2.7,\n",
        "#     'petal.length': 3.9, 'petal.width': 1.4, 'variety': 'Versicolor'}\n",
        "# -> {'sepal.length': 5.4, 'sepal.width': 3.0,\n",
        "#     'petal.length': 4.5, 'petal.width': 1.5, 'variety': 'Versicolor'}\n",
        "# -> {'sepal.length': 4.9, 'sepal.width': 2.5,\n",
        "#     'petal.length': 4.5, 'petal.width': 1.7, 'variety': 'Virginica'}"
      ],
      "metadata": {
        "colab": {
          "base_uri": "https://localhost:8080/"
        },
        "id": "AMbdJ2fDrj66",
        "outputId": "57e3f154-30f7-4299-cc39-df95ff7baa6a"
      },
      "execution_count": 5,
      "outputs": [
        {
          "output_type": "stream",
          "name": "stderr",
          "text": [
            "Read->Map_Batches: 100%|██████████| 1/1 [00:00<00:00, 20.47it/s]"
          ]
        },
        {
          "output_type": "stream",
          "name": "stdout",
          "text": [
            "{'Id': 60, 'SepalLengthCm': 5.2, 'SepalWidthCm': 2.7, 'PetalLengthCm': 3.9, 'PetalWidthCm': 1.4, 'Species': 'Iris-versicolor'}\n",
            "{'Id': 85, 'SepalLengthCm': 5.4, 'SepalWidthCm': 3.0, 'PetalLengthCm': 4.5, 'PetalWidthCm': 1.5, 'Species': 'Iris-versicolor'}\n",
            "{'Id': 107, 'SepalLengthCm': 4.9, 'SepalWidthCm': 2.5, 'PetalLengthCm': 4.5, 'PetalWidthCm': 1.7, 'Species': 'Iris-virginica'}\n",
            "{'Id': 1, 'SepalLengthCm': 5.1, 'SepalWidthCm': 3.5, 'PetalLengthCm': 1.4, 'PetalWidthCm': 0.2, 'Species': 'Iris-setosa'}\n",
            "{'Id': 2, 'SepalLengthCm': 4.9, 'SepalWidthCm': 3.0, 'PetalLengthCm': 1.4, 'PetalWidthCm': 0.2, 'Species': 'Iris-setosa'}\n",
            "{'Id': 3, 'SepalLengthCm': 4.7, 'SepalWidthCm': 3.2, 'PetalLengthCm': 1.3, 'PetalWidthCm': 0.2, 'Species': 'Iris-setosa'}\n",
            "{'Id': 4, 'SepalLengthCm': 4.6, 'SepalWidthCm': 3.1, 'PetalLengthCm': 1.5, 'PetalWidthCm': 0.2, 'Species': 'Iris-setosa'}\n",
            "{'Id': 5, 'SepalLengthCm': 5.0, 'SepalWidthCm': 3.6, 'PetalLengthCm': 1.4, 'PetalWidthCm': 0.2, 'Species': 'Iris-setosa'}\n",
            "{'Id': 6, 'SepalLengthCm': 5.4, 'SepalWidthCm': 3.9, 'PetalLengthCm': 1.7, 'PetalWidthCm': 0.4, 'Species': 'Iris-setosa'}\n",
            "{'Id': 7, 'SepalLengthCm': 4.6, 'SepalWidthCm': 3.4, 'PetalLengthCm': 1.4, 'PetalWidthCm': 0.3, 'Species': 'Iris-setosa'}\n",
            "{'Id': 8, 'SepalLengthCm': 5.0, 'SepalWidthCm': 3.4, 'PetalLengthCm': 1.5, 'PetalWidthCm': 0.2, 'Species': 'Iris-setosa'}\n",
            "{'Id': 9, 'SepalLengthCm': 4.4, 'SepalWidthCm': 2.9, 'PetalLengthCm': 1.4, 'PetalWidthCm': 0.2, 'Species': 'Iris-setosa'}\n",
            "{'Id': 10, 'SepalLengthCm': 4.9, 'SepalWidthCm': 3.1, 'PetalLengthCm': 1.5, 'PetalWidthCm': 0.1, 'Species': 'Iris-setosa'}\n",
            "{'Id': 11, 'SepalLengthCm': 5.4, 'SepalWidthCm': 3.7, 'PetalLengthCm': 1.5, 'PetalWidthCm': 0.2, 'Species': 'Iris-setosa'}\n",
            "{'Id': 12, 'SepalLengthCm': 4.8, 'SepalWidthCm': 3.4, 'PetalLengthCm': 1.6, 'PetalWidthCm': 0.2, 'Species': 'Iris-setosa'}\n",
            "{'Id': 13, 'SepalLengthCm': 4.8, 'SepalWidthCm': 3.0, 'PetalLengthCm': 1.4, 'PetalWidthCm': 0.1, 'Species': 'Iris-setosa'}\n",
            "{'Id': 14, 'SepalLengthCm': 4.3, 'SepalWidthCm': 3.0, 'PetalLengthCm': 1.1, 'PetalWidthCm': 0.1, 'Species': 'Iris-setosa'}\n",
            "{'Id': 15, 'SepalLengthCm': 5.8, 'SepalWidthCm': 4.0, 'PetalLengthCm': 1.2, 'PetalWidthCm': 0.2, 'Species': 'Iris-setosa'}\n",
            "{'Id': 16, 'SepalLengthCm': 5.7, 'SepalWidthCm': 4.4, 'PetalLengthCm': 1.5, 'PetalWidthCm': 0.4, 'Species': 'Iris-setosa'}\n",
            "{'Id': 17, 'SepalLengthCm': 5.4, 'SepalWidthCm': 3.9, 'PetalLengthCm': 1.3, 'PetalWidthCm': 0.4, 'Species': 'Iris-setosa'}\n",
            "{'Id': 18, 'SepalLengthCm': 5.1, 'SepalWidthCm': 3.5, 'PetalLengthCm': 1.4, 'PetalWidthCm': 0.3, 'Species': 'Iris-setosa'}\n",
            "{'Id': 19, 'SepalLengthCm': 5.7, 'SepalWidthCm': 3.8, 'PetalLengthCm': 1.7, 'PetalWidthCm': 0.3, 'Species': 'Iris-setosa'}\n",
            "{'Id': 20, 'SepalLengthCm': 5.1, 'SepalWidthCm': 3.8, 'PetalLengthCm': 1.5, 'PetalWidthCm': 0.3, 'Species': 'Iris-setosa'}\n"
          ]
        },
        {
          "output_type": "stream",
          "name": "stderr",
          "text": [
            "\n"
          ]
        }
      ]
    },
    {
      "cell_type": "code",
      "source": [
        "# Splitting Data\n",
        "\n",
        "# Split the dataset into 2 datasets\n",
        "split = ds.split(2)\n",
        "# -> [Dataset(num_blocks=3, num_rows=90,\n",
        "#             schema={sepal.length: double, sepal.width: double,\n",
        "#                     petal.length: double, petal.width: double, variety: string}),\n",
        "#     Dataset(num_blocks=2, num_rows=60,\n",
        "#             schema={sepal.length: double, sepal.width: double,\n",
        "#                     petal.length: double, petal.width: double, variety: string})]\n",
        "print(split)"
      ],
      "metadata": {
        "colab": {
          "base_uri": "https://localhost:8080/"
        },
        "id": "5S_D2QDktYGt",
        "outputId": "e27bf738-e9f5-40ef-a4b6-c73f035e907d"
      },
      "execution_count": 8,
      "outputs": [
        {
          "output_type": "stream",
          "name": "stdout",
          "text": [
            "[Dataset(num_blocks=1, num_rows=150, schema={Id: int64, SepalLengthCm: double, SepalWidthCm: double, PetalLengthCm: double, PetalWidthCm: double, Species: string}), Dataset(num_blocks=0, num_rows=None, schema=Unknown schema)]\n"
          ]
        }
      ]
    },
    {
      "cell_type": "code",
      "source": [
        "# Sort Data\n",
        "\n",
        "# Sort the dataset by sepal.length.\n",
        "ds = ds.sort(\"SepalLengthCm\")\n",
        "ds.show(3)\n",
        "# -> {'sepal.length': 4.3, 'sepal.width': 3.0,\n",
        "#     'petal.length': 1.1, 'petal.width': 0.1, 'variety': 'Setosa'}\n",
        "# -> {'sepal.length': 4.4, 'sepal.width': 2.9,\n",
        "#     'petal.length': 1.4, 'petal.width': 0.2, 'variety': 'Setosa'}\n",
        "# -> {'sepal.length': 4.4, 'sepal.width': 3.0,\n",
        "#     'petal.length': 1.3, 'petal.width': 0.2, 'variety': 'Setosa'}"
      ],
      "metadata": {
        "colab": {
          "base_uri": "https://localhost:8080/"
        },
        "id": "iOe_cvl2tbJF",
        "outputId": "370e9fba-0f51-4f15-b80e-2fb9c84dd8d8"
      },
      "execution_count": 9,
      "outputs": [
        {
          "output_type": "stream",
          "name": "stderr",
          "text": [
            "Read: 100%|██████████| 1/1 [00:00<00:00, 67.84it/s]\n",
            "Sort Sample: 100%|██████████| 1/1 [00:00<00:00, 464.85it/s]\n",
            "Shuffle Map: 100%|██████████| 1/1 [00:00<00:00, 51.86it/s]\n",
            "Shuffle Reduce: 100%|██████████| 1/1 [00:00<00:00, 87.87it/s]"
          ]
        },
        {
          "output_type": "stream",
          "name": "stdout",
          "text": [
            "{'Id': 14, 'SepalLengthCm': 4.3, 'SepalWidthCm': 3.0, 'PetalLengthCm': 1.1, 'PetalWidthCm': 0.1, 'Species': 'Iris-setosa'}\n",
            "{'Id': 9, 'SepalLengthCm': 4.4, 'SepalWidthCm': 2.9, 'PetalLengthCm': 1.4, 'PetalWidthCm': 0.2, 'Species': 'Iris-setosa'}\n",
            "{'Id': 39, 'SepalLengthCm': 4.4, 'SepalWidthCm': 3.0, 'PetalLengthCm': 1.3, 'PetalWidthCm': 0.2, 'Species': 'Iris-setosa'}\n"
          ]
        },
        {
          "output_type": "stream",
          "name": "stderr",
          "text": [
            "\n"
          ]
        }
      ]
    },
    {
      "cell_type": "code",
      "source": [
        "# Shuffle the dataset.\n",
        "ds = ds.random_shuffle()\n",
        "ds.show(3)\n",
        "# -> {'sepal.length': 6.7, 'sepal.width': 3.1,\n",
        "#     'petal.length': 4.4, 'petal.width': 1.4, 'variety': 'Versicolor'}\n",
        "# -> {'sepal.length': 6.7, 'sepal.width': 3.3,\n",
        "#     'petal.length': 5.7, 'petal.width': 2.1, 'variety': 'Virginica'}\n",
        "# -> {'sepal.length': 4.5, 'sepal.width': 2.3,\n",
        "#     'petal.length': 1.3, 'petal.width': 0.3, 'variety': 'Setosa'}"
      ],
      "metadata": {
        "colab": {
          "base_uri": "https://localhost:8080/"
        },
        "id": "RGequicLY2U4",
        "outputId": "7fc6633b-a892-46e0-e33a-0ee7504e8cbc"
      },
      "execution_count": null,
      "outputs": [
        {
          "output_type": "stream",
          "name": "stderr",
          "text": [
            "Map_Batches: 100%|██████████| 5/5 [00:02<00:00,  2.15it/s]\n"
          ]
        },
        {
          "output_type": "stream",
          "name": "stdout",
          "text": [
            "{'Id': 60, 'SepalLengthCm': 5.2, 'SepalWidthCm': 2.7, 'PetalLengthCm': 3.9, 'PetalWidthCm': 1.4, 'Species': 'Iris-versicolor'}\n",
            "{'Id': 85, 'SepalLengthCm': 5.4, 'SepalWidthCm': 3.0, 'PetalLengthCm': 4.5, 'PetalWidthCm': 1.5, 'Species': 'Iris-versicolor'}\n",
            "{'Id': 107, 'SepalLengthCm': 4.9, 'SepalWidthCm': 2.5, 'PetalLengthCm': 4.5, 'PetalWidthCm': 1.7, 'Species': 'Iris-virginica'}\n"
          ]
        },
        {
          "output_type": "stream",
          "name": "stderr",
          "text": [
            "Sort Sample: 100%|██████████| 5/5 [00:00<00:00,  6.31it/s]\n",
            "Shuffle Map: 100%|██████████| 5/5 [00:00<00:00, 97.14it/s]\n",
            "Shuffle Reduce: 100%|██████████| 5/5 [00:00<00:00, 144.51it/s]\n"
          ]
        },
        {
          "output_type": "stream",
          "name": "stdout",
          "text": [
            "{'Id': 14, 'SepalLengthCm': 4.3, 'SepalWidthCm': 3.0, 'PetalLengthCm': 1.1, 'PetalWidthCm': 0.1, 'Species': 'Iris-setosa'}\n",
            "{'Id': 9, 'SepalLengthCm': 4.4, 'SepalWidthCm': 2.9, 'PetalLengthCm': 1.4, 'PetalWidthCm': 0.2, 'Species': 'Iris-setosa'}\n",
            "{'Id': 39, 'SepalLengthCm': 4.4, 'SepalWidthCm': 3.0, 'PetalLengthCm': 1.3, 'PetalWidthCm': 0.2, 'Species': 'Iris-setosa'}\n"
          ]
        },
        {
          "output_type": "stream",
          "name": "stderr",
          "text": [
            "Shuffle Map: 100%|██████████| 5/5 [00:00<00:00, 98.44it/s]\n",
            "Shuffle Reduce: 100%|██████████| 5/5 [00:00<00:00, 107.85it/s]\n"
          ]
        },
        {
          "output_type": "stream",
          "name": "stdout",
          "text": [
            "{'Id': 99, 'SepalLengthCm': 5.1, 'SepalWidthCm': 2.5, 'PetalLengthCm': 3.0, 'PetalWidthCm': 1.1, 'Species': 'Iris-versicolor'}\n",
            "{'Id': 127, 'SepalLengthCm': 6.2, 'SepalWidthCm': 2.8, 'PetalLengthCm': 4.8, 'PetalWidthCm': 1.8, 'Species': 'Iris-virginica'}\n",
            "{'Id': 38, 'SepalLengthCm': 4.9, 'SepalWidthCm': 3.1, 'PetalLengthCm': 1.5, 'PetalWidthCm': 0.1, 'Species': 'Iris-setosa'}\n"
          ]
        },
        {
          "output_type": "stream",
          "name": "stderr",
          "text": [
            "Sort Sample: 100%|██████████| 5/5 [00:00<00:00, 487.51it/s]\n",
            "Shuffle Map: 100%|██████████| 5/5 [00:00<00:00, 90.19it/s]\n",
            "Shuffle Reduce: 100%|██████████| 5/5 [00:00<00:00, 118.50it/s]"
          ]
        },
        {
          "output_type": "stream",
          "name": "stdout",
          "text": [
            "{'Species': 'Iris-setosa', 'count()': 50}\n",
            "{'Species': 'Iris-versicolor', 'count()': 50}\n",
            "{'Species': 'Iris-virginica', 'count()': 50}\n"
          ]
        },
        {
          "output_type": "stream",
          "name": "stderr",
          "text": [
            "\n"
          ]
        }
      ]
    },
    {
      "cell_type": "code",
      "source": [
        "# Group by the variety.\n",
        "species = ds.groupby(\"Species\").count().show()\n",
        "# -> {'variety': 'Setosa', 'count()': 50}\n",
        "# -> {'variety': 'Versicolor', 'count()': 50}\n",
        "# -> {'variety': 'Virginica', 'count()': 50}\n",
        "print(species)"
      ],
      "metadata": {
        "colab": {
          "base_uri": "https://localhost:8080/"
        },
        "id": "ilo-QyNYuPWt",
        "outputId": "52b8f14f-8ef6-43b3-b21d-310b79e831f1"
      },
      "execution_count": 11,
      "outputs": [
        {
          "output_type": "stream",
          "name": "stderr",
          "text": [
            "Sort Sample: 100%|██████████| 1/1 [00:00<00:00, 72.58it/s]\n",
            "Shuffle Map: 100%|██████████| 1/1 [00:00<00:00, 67.97it/s]\n",
            "Shuffle Reduce: 100%|██████████| 1/1 [00:00<00:00, 52.02it/s]"
          ]
        },
        {
          "output_type": "stream",
          "name": "stdout",
          "text": [
            "{'Species': 'Iris-setosa', 'count()': 50}\n",
            "{'Species': 'Iris-versicolor', 'count()': 50}\n",
            "{'Species': 'Iris-virginica', 'count()': 50}\n",
            "None\n"
          ]
        },
        {
          "output_type": "stream",
          "name": "stderr",
          "text": [
            "\n"
          ]
        }
      ]
    }
  ]
}