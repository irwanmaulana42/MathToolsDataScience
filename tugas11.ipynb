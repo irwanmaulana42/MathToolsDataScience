{
  "nbformat": 4,
  "nbformat_minor": 0,
  "metadata": {
    "colab": {
      "name": "tugas06.ipynb",
      "provenance": [],
      "authorship_tag": "ABX9TyMsgOUId9Pjg/xfnmL1uPhB",
      "include_colab_link": true
    },
    "kernelspec": {
      "name": "python3",
      "display_name": "Python 3"
    },
    "language_info": {
      "name": "python"
    }
  },
  "cells": [
    {
      "cell_type": "markdown",
      "metadata": {
        "id": "view-in-github",
        "colab_type": "text"
      },
      "source": [
        "<a href=\"https://colab.research.google.com/github/irwanmaulana42/MathToolsDataScience/blob/main/tugas11.ipynb\" target=\"_parent\"><img src=\"https://colab.research.google.com/assets/colab-badge.svg\" alt=\"Open In Colab\"/></a>"
      ]
    },
    {
      "cell_type": "code",
      "execution_count": 1,
      "metadata": {
        "id": "IZJdygYS4wi_"
      },
      "outputs": [],
      "source": [
        "#importing the libraries\n",
        "import numpy as np\n",
        "import matplotlib.pyplot as plt\n",
        "import pandas as pd"
      ]
    },
    {
      "cell_type": "code",
      "source": [
        "#importing the Iris dataset with pandas\n",
        "dataset = pd.read_csv('https://raw.githubusercontent.com/irwanmaulana42/MathToolsDataScience/main/iris/Iris.csv')\n",
        "x = dataset.iloc[:, [1, 2, 3, 4]].values"
      ],
      "metadata": {
        "colab": {
          "base_uri": "https://localhost:8080/",
          "height": 300
        },
        "id": "eWct40im5dOJ",
        "outputId": "98197a82-13f2-4b1c-c3d8-d2b24952086c"
      },
      "execution_count": null,
      "outputs": [
        {
          "output_type": "execute_result",
          "data": {
            "text/plain": [
              "               Id  SepalLengthCm  SepalWidthCm  PetalLengthCm  PetalWidthCm\n",
              "count  150.000000     150.000000    150.000000     150.000000    150.000000\n",
              "mean    75.500000       5.843333      3.054000       3.758667      1.198667\n",
              "std     43.445368       0.828066      0.433594       1.764420      0.763161\n",
              "min      1.000000       4.300000      2.000000       1.000000      0.100000\n",
              "25%     38.250000       5.100000      2.800000       1.600000      0.300000\n",
              "50%     75.500000       5.800000      3.000000       4.350000      1.300000\n",
              "75%    112.750000       6.400000      3.300000       5.100000      1.800000\n",
              "max    150.000000       7.900000      4.400000       6.900000      2.500000"
            ],
            "text/html": [
              "\n",
              "  <div id=\"df-dd98e0df-d4ce-4778-be50-ef62e10730ce\">\n",
              "    <div class=\"colab-df-container\">\n",
              "      <div>\n",
              "<style scoped>\n",
              "    .dataframe tbody tr th:only-of-type {\n",
              "        vertical-align: middle;\n",
              "    }\n",
              "\n",
              "    .dataframe tbody tr th {\n",
              "        vertical-align: top;\n",
              "    }\n",
              "\n",
              "    .dataframe thead th {\n",
              "        text-align: right;\n",
              "    }\n",
              "</style>\n",
              "<table border=\"1\" class=\"dataframe\">\n",
              "  <thead>\n",
              "    <tr style=\"text-align: right;\">\n",
              "      <th></th>\n",
              "      <th>Id</th>\n",
              "      <th>SepalLengthCm</th>\n",
              "      <th>SepalWidthCm</th>\n",
              "      <th>PetalLengthCm</th>\n",
              "      <th>PetalWidthCm</th>\n",
              "    </tr>\n",
              "  </thead>\n",
              "  <tbody>\n",
              "    <tr>\n",
              "      <th>count</th>\n",
              "      <td>150.000000</td>\n",
              "      <td>150.000000</td>\n",
              "      <td>150.000000</td>\n",
              "      <td>150.000000</td>\n",
              "      <td>150.000000</td>\n",
              "    </tr>\n",
              "    <tr>\n",
              "      <th>mean</th>\n",
              "      <td>75.500000</td>\n",
              "      <td>5.843333</td>\n",
              "      <td>3.054000</td>\n",
              "      <td>3.758667</td>\n",
              "      <td>1.198667</td>\n",
              "    </tr>\n",
              "    <tr>\n",
              "      <th>std</th>\n",
              "      <td>43.445368</td>\n",
              "      <td>0.828066</td>\n",
              "      <td>0.433594</td>\n",
              "      <td>1.764420</td>\n",
              "      <td>0.763161</td>\n",
              "    </tr>\n",
              "    <tr>\n",
              "      <th>min</th>\n",
              "      <td>1.000000</td>\n",
              "      <td>4.300000</td>\n",
              "      <td>2.000000</td>\n",
              "      <td>1.000000</td>\n",
              "      <td>0.100000</td>\n",
              "    </tr>\n",
              "    <tr>\n",
              "      <th>25%</th>\n",
              "      <td>38.250000</td>\n",
              "      <td>5.100000</td>\n",
              "      <td>2.800000</td>\n",
              "      <td>1.600000</td>\n",
              "      <td>0.300000</td>\n",
              "    </tr>\n",
              "    <tr>\n",
              "      <th>50%</th>\n",
              "      <td>75.500000</td>\n",
              "      <td>5.800000</td>\n",
              "      <td>3.000000</td>\n",
              "      <td>4.350000</td>\n",
              "      <td>1.300000</td>\n",
              "    </tr>\n",
              "    <tr>\n",
              "      <th>75%</th>\n",
              "      <td>112.750000</td>\n",
              "      <td>6.400000</td>\n",
              "      <td>3.300000</td>\n",
              "      <td>5.100000</td>\n",
              "      <td>1.800000</td>\n",
              "    </tr>\n",
              "    <tr>\n",
              "      <th>max</th>\n",
              "      <td>150.000000</td>\n",
              "      <td>7.900000</td>\n",
              "      <td>4.400000</td>\n",
              "      <td>6.900000</td>\n",
              "      <td>2.500000</td>\n",
              "    </tr>\n",
              "  </tbody>\n",
              "</table>\n",
              "</div>\n",
              "      <button class=\"colab-df-convert\" onclick=\"convertToInteractive('df-dd98e0df-d4ce-4778-be50-ef62e10730ce')\"\n",
              "              title=\"Convert this dataframe to an interactive table.\"\n",
              "              style=\"display:none;\">\n",
              "        \n",
              "  <svg xmlns=\"http://www.w3.org/2000/svg\" height=\"24px\"viewBox=\"0 0 24 24\"\n",
              "       width=\"24px\">\n",
              "    <path d=\"M0 0h24v24H0V0z\" fill=\"none\"/>\n",
              "    <path d=\"M18.56 5.44l.94 2.06.94-2.06 2.06-.94-2.06-.94-.94-2.06-.94 2.06-2.06.94zm-11 1L8.5 8.5l.94-2.06 2.06-.94-2.06-.94L8.5 2.5l-.94 2.06-2.06.94zm10 10l.94 2.06.94-2.06 2.06-.94-2.06-.94-.94-2.06-.94 2.06-2.06.94z\"/><path d=\"M17.41 7.96l-1.37-1.37c-.4-.4-.92-.59-1.43-.59-.52 0-1.04.2-1.43.59L10.3 9.45l-7.72 7.72c-.78.78-.78 2.05 0 2.83L4 21.41c.39.39.9.59 1.41.59.51 0 1.02-.2 1.41-.59l7.78-7.78 2.81-2.81c.8-.78.8-2.07 0-2.86zM5.41 20L4 18.59l7.72-7.72 1.47 1.35L5.41 20z\"/>\n",
              "  </svg>\n",
              "      </button>\n",
              "      \n",
              "  <style>\n",
              "    .colab-df-container {\n",
              "      display:flex;\n",
              "      flex-wrap:wrap;\n",
              "      gap: 12px;\n",
              "    }\n",
              "\n",
              "    .colab-df-convert {\n",
              "      background-color: #E8F0FE;\n",
              "      border: none;\n",
              "      border-radius: 50%;\n",
              "      cursor: pointer;\n",
              "      display: none;\n",
              "      fill: #1967D2;\n",
              "      height: 32px;\n",
              "      padding: 0 0 0 0;\n",
              "      width: 32px;\n",
              "    }\n",
              "\n",
              "    .colab-df-convert:hover {\n",
              "      background-color: #E2EBFA;\n",
              "      box-shadow: 0px 1px 2px rgba(60, 64, 67, 0.3), 0px 1px 3px 1px rgba(60, 64, 67, 0.15);\n",
              "      fill: #174EA6;\n",
              "    }\n",
              "\n",
              "    [theme=dark] .colab-df-convert {\n",
              "      background-color: #3B4455;\n",
              "      fill: #D2E3FC;\n",
              "    }\n",
              "\n",
              "    [theme=dark] .colab-df-convert:hover {\n",
              "      background-color: #434B5C;\n",
              "      box-shadow: 0px 1px 3px 1px rgba(0, 0, 0, 0.15);\n",
              "      filter: drop-shadow(0px 1px 2px rgba(0, 0, 0, 0.3));\n",
              "      fill: #FFFFFF;\n",
              "    }\n",
              "  </style>\n",
              "\n",
              "      <script>\n",
              "        const buttonEl =\n",
              "          document.querySelector('#df-dd98e0df-d4ce-4778-be50-ef62e10730ce button.colab-df-convert');\n",
              "        buttonEl.style.display =\n",
              "          google.colab.kernel.accessAllowed ? 'block' : 'none';\n",
              "\n",
              "        async function convertToInteractive(key) {\n",
              "          const element = document.querySelector('#df-dd98e0df-d4ce-4778-be50-ef62e10730ce');\n",
              "          const dataTable =\n",
              "            await google.colab.kernel.invokeFunction('convertToInteractive',\n",
              "                                                     [key], {});\n",
              "          if (!dataTable) return;\n",
              "\n",
              "          const docLinkHtml = 'Like what you see? Visit the ' +\n",
              "            '<a target=\"_blank\" href=https://colab.research.google.com/notebooks/data_table.ipynb>data table notebook</a>'\n",
              "            + ' to learn more about interactive tables.';\n",
              "          element.innerHTML = '';\n",
              "          dataTable['output_type'] = 'display_data';\n",
              "          await google.colab.output.renderOutput(dataTable, element);\n",
              "          const docLink = document.createElement('div');\n",
              "          docLink.innerHTML = docLinkHtml;\n",
              "          element.appendChild(docLink);\n",
              "        }\n",
              "      </script>\n",
              "    </div>\n",
              "  </div>\n",
              "  "
            ]
          },
          "metadata": {},
          "execution_count": 2
        }
      ]
    },
    {
      "cell_type": "code",
      "source": [
        "# This function will find the mean of the given list\n",
        "def find_mean(ls:list):\n",
        "    # check if the list has some values\n",
        "    if ls:\n",
        "        # return the mean(sum_of_list_values/count_of_values_in_list)\n",
        "        return(sum(ls)/len(ls))\n",
        "    else:\n",
        "        return 0\n",
        "print(\"Mean for sepal_length: \",find_mean(list(df['SepalLengthCm'])))\n",
        "print(\"Mean for sepal_width: \",find_mean(list(df['SepalWidthCm'])))\n",
        "print(\"Mean for petal_length: \",find_mean(list(df['PetalLengthCm'])))\n",
        "print(\"Mean for petal_width: \",find_mean(list(df['PetalWidthCm'])))"
      ],
      "metadata": {
        "id": "eDYrc4aW55Gn",
        "colab": {
          "base_uri": "https://localhost:8080/"
        },
        "outputId": "c487f50d-e0de-411e-eede-eb1f873a189b"
      },
      "execution_count": null,
      "outputs": [
        {
          "output_type": "stream",
          "name": "stdout",
          "text": [
            "Mean for sepal_length:  5.843333333333335\n",
            "Mean for sepal_width:  3.0540000000000007\n",
            "Mean for petal_length:  3.7586666666666693\n",
            "Mean for petal_width:  1.1986666666666672\n"
          ]
        }
      ]
    },
    {
      "cell_type": "code",
      "source": [
        "# This function will calculate variance of the given list of data-points.\n",
        "# 1. calculate mean\n",
        "# 2. find deviation from mean\n",
        "# 3. square each deviation from mean\n",
        "# 4. Find the sum of squares\n",
        "# 5. Divide sum of squares by N-1(for sample data-points) or N(for population data-points)\n",
        "\n",
        "def calculate_variance(ls:list):\n",
        "    # check mean of the list of values\n",
        "    mean = find_mean(ls)\n",
        "    if mean!=0:\n",
        "        return sum((i - mean) ** 2 for i in ls) / len(ls)\n",
        "    else:\n",
        "        return 0\n",
        "    \n",
        "print(\"Variance for sepal_length: \",calculate_variance(list(df['SepalLengthCm'])))\n",
        "print(\"Variance for sepal_width: \",calculate_variance(list(df['SepalWidthCm'])))\n",
        "print(\"Variance for petal_length: \",calculate_variance(list(df['PetalLengthCm'])))\n",
        "print(\"Variance for petal_width: \",calculate_variance(list(df['PetalWidthCm'])))"
      ],
      "metadata": {
        "colab": {
          "base_uri": "https://localhost:8080/"
        },
        "id": "r4UKJ8fgJ-7p",
        "outputId": "b5477b8c-9954-4aff-a664-f45b20a55a46"
      },
      "execution_count": null,
      "outputs": [
        {
          "output_type": "stream",
          "name": "stdout",
          "text": [
            "Variance for sepal_length:  0.6811222222222222\n",
            "Variance for sepal_width:  0.1867506666666667\n",
            "Variance for petal_length:  3.0924248888888854\n",
            "Variance for petal_width:  0.5785315555555559\n"
          ]
        }
      ]
    },
    {
      "cell_type": "code",
      "source": [
        "# This method will calculate the standard deviation\n",
        "def calculate_standard_deviation(ls:list):\n",
        "    return calculate_variance(ls)**(1/2)\n",
        "\n",
        "print(\"Standard Devation for sepal_length: \",calculate_standard_deviation(list(df['SepalLengthCm'])))\n",
        "print(\"Standard Devation for sepal_width: \",calculate_standard_deviation(list(df['SepalWidthCm'])))\n",
        "print(\"Standard Devation for petal_length: \",calculate_standard_deviation(list(df['PetalLengthCm'])))\n",
        "print(\"Standard Devation for petal_width: \",calculate_standard_deviation(list(df['PetalWidthCm'])))"
      ],
      "metadata": {
        "colab": {
          "base_uri": "https://localhost:8080/"
        },
        "id": "Q6gvaYMyKFeE",
        "outputId": "379dd219-84d1-44b5-b10e-abe326d64e86"
      },
      "execution_count": null,
      "outputs": [
        {
          "output_type": "stream",
          "name": "stdout",
          "text": [
            "Standard Devation for sepal_length:  0.8253012917851409\n",
            "Standard Devation for sepal_width:  0.4321465800705435\n",
            "Standard Devation for petal_length:  1.7585291834055201\n",
            "Standard Devation for petal_width:  0.760612618588172\n"
          ]
        }
      ]
    },
    {
      "cell_type": "code",
      "source": [
        "# Normal Distribution\n",
        "mean_sepal_length = mean(df['SepalLengthCm'])\n",
        "sd_sepal_length = stdev(df['SepalLengthCm'])\n",
        "normal_df = norm.pdf(df['SepalLengthCm'],loc = mean_sepal_length, scale = sd_sepal_length)\n",
        "plt.plot(df['SepalLengthCm'], normal_df, 'bs')\n",
        "plt.show()"
      ],
      "metadata": {
        "colab": {
          "base_uri": "https://localhost:8080/",
          "height": 268
        },
        "id": "aO45oMBDKY3g",
        "outputId": "4bdf6e14-ea62-44d1-e3a7-46e7ae5a4c7b"
      },
      "execution_count": null,
      "outputs": [
        {
          "output_type": "display_data",
          "data": {
            "text/plain": [
              "<Figure size 432x288 with 1 Axes>"
            ],
            "image/png": "[encoded data removed]"
          },
          "metadata": {
            "needs_background": "light"
          }
        }
      ]
    },
    {
      "cell_type": "code",
      "source": [
        "# Poisson Distribution\n",
        "\n",
        "x=pd.Series(df['SepalLengthCm']).to_numpy()\n",
        "\n",
        "y = np.exp(-mean_sepal_length)*np.power(mean_sepal_length, x)/factorial(x)\n",
        "\n",
        "plt.figure(figsize=(15,8))\n",
        "plt.title('Poisson distribution with lambda=5', fontsize='xx-large')\n",
        "plt.plot(x, y, 'bs')\n",
        "plt.show()"
      ],
      "metadata": {
        "colab": {
          "base_uri": "https://localhost:8080/",
          "height": 503
        },
        "id": "mnOkW682LfnP",
        "outputId": "2df76ef8-0435-4915-dd8f-eab59cd6435c"
      },
      "execution_count": null,
      "outputs": [
        {
          "output_type": "display_data",
          "data": {
            "text/plain": [
              "<Figure size 1080x576 with 1 Axes>"
            ],
            "image/png": "[encoded data removed]"
          },
          "metadata": {
            "needs_background": "light"
          }
        }
      ]
    }
  ]
}